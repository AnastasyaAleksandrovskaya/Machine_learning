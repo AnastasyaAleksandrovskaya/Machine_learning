{
 "cells": [
  {
   "cell_type": "code",
   "execution_count": 15,
   "metadata": {},
   "outputs": [],
   "source": [
    "import random\n",
    "import sys\n",
    "import math\n",
    "import numpy\n",
    "from matplotlib.colors import ListedColormap\n",
    "import pylab"
   ]
  },
  {
   "cell_type": "code",
   "execution_count": 16,
   "metadata": {},
   "outputs": [],
   "source": [
    "nClasses = 3\n",
    "nItemInClass = 40\n",
    "testPercent = 0.1\n",
    "k = 10"
   ]
  },
  {
   "cell_type": "code",
   "execution_count": 17,
   "metadata": {},
   "outputs": [],
   "source": [
    "# Сгенерируем данные, на которых будут производиться эксперименты\n",
    "def generateData (numberOfClassEl, numberOfClasses):\n",
    "\n",
    "    data = []\n",
    "    for classNum in range(numberOfClasses):\n",
    "\n",
    "       centerX = random.random() * 5.0\n",
    "       centerY = random.random() * 5.0\n",
    "\n",
    "       for rowNum in range(numberOfClassEl):\n",
    "           data.append([ [random.gauss(centerX, 0.5), random.gauss(centerY, 0.5)], classNum ])\n",
    "\n",
    "    return data\n",
    "# raw_data = generateData(5, 5)\n",
    "# print(raw_data)"
   ]
  },
  {
   "cell_type": "code",
   "execution_count": 32,
   "metadata": {},
   "outputs": [],
   "source": [
    "def showData (nClasses, nItemInClass):\n",
    "    trainData = generateData(nClasses, nItemInClass)\n",
    "    classColormap  = ListedColormap(['#FF0000', '#00FF00', '#FFFF11'] )\n",
    "    pylab.scatter([trainData[i][0][0] for i in range(len(trainData))],\n",
    "               [trainData[i][0][1] for i in range(len(trainData))],\n",
    "               c=[trainData[i][1] for i in range(len(trainData))],\n",
    "               cmap=classColormap)\n",
    "    pylab.show()\n"
   ]
  },
  {
   "cell_type": "code",
   "execution_count": 33,
   "metadata": {},
   "outputs": [],
   "source": [
    "# Разобьем это множество на две части: обучающую выбору и тестовую выборку\n",
    "def splitTrainTest (data, testPercent) :\n",
    "    trainData = []\n",
    "    testData = []\n",
    "\n",
    "    for row in data:\n",
    "        if random.random() < testPercent:\n",
    "            testData.append(row)\n",
    "        else:\n",
    "            trainData.append(row)\n",
    "    return trainData, testData"
   ]
  },
  {
   "cell_type": "code",
   "execution_count": 34,
   "metadata": {},
   "outputs": [],
   "source": [
    "def classifyKNN (trainData, testData, k, numberOfClasses):\n",
    "\n",
    "    def EulerDist(a , b):\n",
    "        return math.sqrt((a[0] - b[0]) ** 2 + ( a[1] - b[1]) ** 2)\n",
    "\n",
    "    testLabels = []\n",
    "\n",
    "    for testPoint in testData:\n",
    "        testDist = [[EulerDist(testPoint, trainData[i][0]), trainData[i][1]] for i in range(len(trainData))]\n",
    "\n",
    "        stat = [0 for i in range(numberOfClasses)]\n",
    "\n",
    "\n",
    "        for d in sorted(testDist)[0:k]:\n",
    "            stat[d[1]] += 1\n",
    "\n",
    "        testLabels.append( sorted( zip( stat, range(numberOfClasses)), reverse=True)[0][1] )\n",
    "\n",
    "    return testLabels"
   ]
  },
  {
   "cell_type": "code",
   "execution_count": 40,
   "metadata": {},
   "outputs": [],
   "source": [
    "# Оценка, насколько хорошо работает классификатор\n",
    "def calculateAccuracy (nClasses, nItemInClass, k, testPercent):\n",
    "    data = generateData(nItemInClass, nClasses)\n",
    "    trainData, testDataWithLabels = splitTrainTest(data, testPercent)\n",
    "    testData = [testDataWithLabels[i][0] for i in range(len(testDataWithLabels))]\n",
    "\n",
    "    testDataLabels = classifyKNN(trainData, testData, k, nClasses)\n",
    "    print (\"Точность: \", sum([int(testDataLabels[i]==testDataWithLabels[i][1]) for i in range(len(testDataWithLabels))]) / float(len(testDataWithLabels)))"
   ]
  },
  {
   "cell_type": "code",
   "execution_count": 41,
   "metadata": {},
   "outputs": [],
   "source": [
    "def showDataOnMesh (nClasses, nItemsInClass, k):\n",
    "    # Создание сетки узлов, охватывающую все случаи train\n",
    "    def generateTestMesh (trainData):\n",
    "        x_min = min( [trainData[i][0][0] for i in range(len(trainData))] ) - 1.0\n",
    "        x_max = max( [trainData[i][0][0] for i in range(len(trainData))] ) + 1.0\n",
    "        y_min = min( [trainData[i][0][1] for i in range(len(trainData))] ) - 1.0\n",
    "        y_max = max( [trainData[i][0][1] for i in range(len(trainData))] ) + 1.0\n",
    "        h = 0.05\n",
    "        testX, testY = numpy.meshgrid(numpy.arange(x_min, x_max, h),\n",
    "                                   numpy.arange(y_min, y_max, h))\n",
    "        return [testX, testY]\n",
    "    trainData      = generateData (nItemsInClass, nClasses)\n",
    "    testMesh       = generateTestMesh (trainData)\n",
    "    testMeshLabels = classifyKNN (trainData, zip(testMesh[0].ravel(), testMesh[1].ravel()), k, nClasses)\n",
    "    classColormap  = ListedColormap(['#FF0000', '#00FF00', '#FFFF11'])\n",
    "    testColormap   = ListedColormap(['#FFAAAA', '#AAFFAA', '#AAAAAA'])\n",
    "    pylab.pcolormesh(testMesh[0],\n",
    "                  testMesh[1],\n",
    "                  numpy.asarray(testMeshLabels).reshape(testMesh[0].shape),\n",
    "                  cmap=testColormap)\n",
    "    pylab.scatter([trainData[i][0][0] for i in range(len(trainData))],\n",
    "               [trainData[i][0][1] for i in range(len(trainData))],\n",
    "               c=[trainData[i][1] for i in range(len(trainData))],\n",
    "               cmap=classColormap)\n",
    "    pylab.show()"
   ]
  },
  {
   "cell_type": "code",
   "execution_count": 45,
   "metadata": {},
   "outputs": [
    {
     "name": "stdout",
     "output_type": "stream",
     "text": [
      "Точность:  1.0\n"
     ]
    },
    {
     "data": {
      "image/png": "[encoded data removed]",
      "text/plain": [
       "<Figure size 432x288 with 1 Axes>"
      ]
     },
     "metadata": {
      "needs_background": "light"
     },
     "output_type": "display_data"
    },
    {
     "name": "stdout",
     "output_type": "stream",
     "text": [
      "None\n"
     ]
    },
    {
     "data": {
      "image/png": "[encoded data removed]",
      "text/plain": [
       "<Figure size 432x288 with 1 Axes>"
      ]
     },
     "metadata": {
      "needs_background": "light"
     },
     "output_type": "display_data"
    },
    {
     "name": "stdout",
     "output_type": "stream",
     "text": [
      "None\n"
     ]
    }
   ],
   "source": [
    "data = generateData(40,3)\n",
    "\n",
    "trainData, testDataWithLabels = splitTrainTest(data, testPercent)\n",
    "testData = [testDataWithLabels[i][0] for i in range(len(testDataWithLabels))]\n",
    "\n",
    "# print(\"Raw data: \")\n",
    "# print(data)\n",
    "# print(\"\\n\")\n",
    "\n",
    "# print(\"Train Data: \")\n",
    "# print(trainData)\n",
    "# print(\"\\n\")\n",
    "\n",
    "# print(\"Test Data with Labels\")\n",
    "# print(testDataWithLabels)\n",
    "# print(\"\\n\")\n",
    "\n",
    "# print(\"Test Data: \")\n",
    "# print(testData)\n",
    "# print(\"\\n\")\n",
    "\n",
    "# classifiedData = classifyKNN(trainData, testData, 10, 3)\n",
    "\n",
    "# print(classifiedData)\n",
    "\n",
    "calculateAccuracy(nClasses, nItemInClass, k, testPercent)\n",
    "\n",
    "print(showData(nClasses, nItemInClass))\n",
    "print(showDataOnMesh(nClasses, nItemInClass, k))"
   ]
  },
  {
   "cell_type": "code",
   "execution_count": null,
   "metadata": {},
   "outputs": [],
   "source": []
  }
 ],
 "metadata": {
  "kernelspec": {
   "display_name": "Python 3",
   "language": "python",
   "name": "python3"
  },
  "language_info": {
   "codemirror_mode": {
    "name": "ipython",
    "version": 3
   },
   "file_extension": ".py",
   "mimetype": "text/x-python",
   "name": "python",
   "nbconvert_exporter": "python",
   "pygments_lexer": "ipython3",
   "version": "3.7.3"
  }
 },
 "nbformat": 4,
 "nbformat_minor": 2
}
