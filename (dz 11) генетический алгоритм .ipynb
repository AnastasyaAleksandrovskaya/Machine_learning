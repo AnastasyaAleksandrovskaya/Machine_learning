{
 "cells": [
  {
   "cell_type": "code",
   "execution_count": 3,
   "metadata": {},
   "outputs": [],
   "source": [
    "import numpy\n",
    "\n",
    "def cal_pop_fitness(equation_inputs, pop):\n",
    "    fitness = numpy.sum(pop*equation_inputs, axis=1)\n",
    "    return fitness\n",
    "\n",
    "def select_mating_pool(pop, fitness, num_parents):\n",
    "    parents = numpy.empty((num_parents, pop.shape[1]))\n",
    "    for parent_num in range(num_parents):\n",
    "        max_fitness_idx = numpy.where(fitness == numpy.max(fitness))\n",
    "        max_fitness_idx = max_fitness_idx[0][0]\n",
    "        parents[parent_num, :] = pop[max_fitness_idx, :]\n",
    "        fitness[max_fitness_idx] = -99999999999\n",
    "    return parents\n",
    "\n",
    "def crossover(parents, offspring_size):\n",
    "    offspring = numpy.empty(offspring_size)\n",
    "    crossover_point = numpy.uint8(offspring_size[1]/2)\n",
    "\n",
    "    for k in range(offspring_size[0]):\n",
    "        parent1_idx = k%parents.shape[0]\n",
    "        parent2_idx = (k+1)%parents.shape[0]\n",
    "        offspring[k, 0:crossover_point] = parents[parent1_idx, 0:crossover_point]\n",
    "        offspring[k, crossover_point:] = parents[parent2_idx, crossover_point:]\n",
    "    return offspring\n",
    "\n",
    "def mutation(offspring_crossover):\n",
    "    for idx in range(offspring_crossover.shape[0]):\n",
    "        random_value = numpy.random.uniform(-1.0, 1.0, 1)\n",
    "        offspring_crossover[idx, 4] = offspring_crossover[idx, 4] + random_value\n",
    "    return offspring_crossover"
   ]
  },
  {
   "cell_type": "code",
   "execution_count": 4,
   "metadata": {},
   "outputs": [
    {
     "name": "stdout",
     "output_type": "stream",
     "text": [
      "[[ 1.11743674 -1.44946467 -3.01728362  2.38485069  3.79717389 -1.66403585]\n",
      " [-2.93193791 -3.99472242  2.66740301  2.43296799  1.48373981  2.218141  ]\n",
      " [ 0.67681229  1.95865019  0.79481053 -2.70339762 -1.93012081  3.81473038]\n",
      " [ 1.11162692  3.84469294  0.19726249 -0.75498775 -3.26750384 -2.77172196]\n",
      " [ 0.61908264 -1.94605381  3.41351051  3.50981898 -3.48924844 -2.09752847]\n",
      " [-0.17613391 -0.23355372  2.78926167  0.79699792  1.48183094  2.18928296]\n",
      " [ 2.32010926  2.12213564 -0.32593792  3.55891519  2.10557476 -1.02717613]\n",
      " [-3.59182869 -3.40339279  2.56696049  2.13954869  1.75958181  2.49267353]]\n",
      "Generation :  0\n",
      "Best result :  84.10493651922239\n",
      "Generation :  1\n",
      "Best result :  88.437684955671\n",
      "Generation :  2\n",
      "Best result :  95.81996253464975\n",
      "Generation :  3\n",
      "Best result :  98.6363557461203\n",
      "Generation :  4\n",
      "Best result :  98.6363557461203\n",
      "Best solution :  [[[ 0.61908264 -1.94605381  3.41351051  3.50981898 -4.81028655\n",
      "   -2.09752847]]]\n",
      "Best solution fitness :  [98.63635575]\n"
     ]
    }
   ],
   "source": [
    "# y = w1x1 + w2x2 + w3x3 + w4x4 + w5x5 + 6wx6, где (x1, x2, x3, x4, x5, x6) = (4, -2,3.5,5, -11, -4.7)\n",
    "\n",
    "equation_inputs = [4,-2,3.5,5,-11,-4.7]\n",
    "\n",
    "num_weights = 6\n",
    "sol_per_pop = 8\n",
    "num_parents_mating = 4\n",
    "\n",
    "pop_size = (sol_per_pop,num_weights)\n",
    "new_population = numpy.random.uniform(low=-4.0, high=4.0, size=pop_size)\n",
    "print(new_population)\n",
    "\n",
    "num_generations = 5\n",
    "for generation in range(num_generations):\n",
    "    print(\"Generation : \", generation)\n",
    "    fitness = cal_pop_fitness(equation_inputs, new_population)\n",
    "    parents = select_mating_pool(new_population, fitness, num_parents_mating)\n",
    "    offspring_crossover = crossover(parents, offspring_size=(pop_size[0]-parents.shape[0], num_weights))\n",
    "    offspring_mutation = mutation(offspring_crossover)\n",
    "    new_population[0:parents.shape[0], :] = parents\n",
    "    new_population[parents.shape[0]:, :] = offspring_mutation\n",
    "\n",
    "    print(\"Best result : \", numpy.max(numpy.sum(new_population*equation_inputs, axis=1)))\n",
    "\n",
    "fitness = cal_pop_fitness(equation_inputs, new_population)\n",
    "best_match_idx = numpy.where(fitness == numpy.max(fitness))\n",
    "\n",
    "print(\"Best solution : \", new_population[best_match_idx, :])\n",
    "print(\"Best solution fitness : \", fitness[best_match_idx])"
   ]
  },
  {
   "cell_type": "code",
   "execution_count": null,
   "metadata": {},
   "outputs": [],
   "source": []
  }
 ],
 "metadata": {
  "kernelspec": {
   "display_name": "Python 3",
   "language": "python",
   "name": "python3"
  },
  "language_info": {
   "codemirror_mode": {
    "name": "ipython",
    "version": 3
   },
   "file_extension": ".py",
   "mimetype": "text/x-python",
   "name": "python",
   "nbconvert_exporter": "python",
   "pygments_lexer": "ipython3",
   "version": "3.7.3"
  }
 },
 "nbformat": 4,
 "nbformat_minor": 2
}
