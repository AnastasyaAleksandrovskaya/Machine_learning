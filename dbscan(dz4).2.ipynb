{
 "cells": [
  {
   "cell_type": "code",
   "execution_count": 5,
   "metadata": {},
   "outputs": [],
   "source": [
    "import numpy as np\n",
    "import pygame\n",
    "import matplotlib.pyplot as plt\n",
    "import matplotlib.cm as mplcm\n",
    "import matplotlib.colors as colors\n",
    "\n",
    "data = np.empty((0,2), dtype='f')\n",
    "\n",
    "def createData(position):\n",
    "    (x,y) = position\n",
    "    r = np.random.uniform(0,30)\n",
    "    phi = np.random.uniform(0,2*np.pi)\n",
    "    coord = [x + r*np.cos(phi), y + r*np.sin(phi)]\n",
    "    global data\n",
    "    data = np.append(data,[coord],axis=0)\n",
    "    \n",
    "radius = 2\n",
    "color = (0,0,255)\n",
    "thickness = 0\n",
    "\n",
    "bg_color = (255,255,255)\n",
    "(width,height) = (640,480)\n",
    "screen = pygame.display.set_mode((width,height))\n",
    "pygame.display.set_caption('data generator')\n",
    "\n",
    "running = True\n",
    "pushing = False\n",
    "while running:\n",
    "    for event in pygame.event.get():\n",
    "        if event.type == pygame.QUIT:\n",
    "            running = False\n",
    "        elif event.type == pygame.MOUSEBUTTONDOWN:\n",
    "            pushing = True\n",
    "        elif event.type == pygame.MOUSEBUTTONUP:\n",
    "            pushing = False\n",
    "            \n",
    "    if pushing:\n",
    "        createData(pygame.mouse.get_pos())\n",
    "            \n",
    "            \n",
    "    screen.fill(bg_color)\n",
    "    for point in data:\n",
    "        pygame.draw.circle(screen,color,(int(point[0]),int(point[1])),radius,thickness)\n",
    "    pygame.display.flip()\n",
    "    \n",
    "pygame.quit()"
   ]
  },
  {
   "cell_type": "code",
   "execution_count": 6,
   "metadata": {},
   "outputs": [],
   "source": [
    "class DB_SCAN():\n",
    "    def __init__(self, dataset, eps=30.0, min_samples=2):\n",
    "        self.dataset = dataset\n",
    "        self.eps = eps\n",
    "        self.min_samples = min_samples\n",
    "        self.n_clusters = 0\n",
    "        self.clusters = {0:[]}\n",
    "        self.visited = set()\n",
    "        self.clustered = set()\n",
    "        self.labels = np.array([])\n",
    "        self.fitted = False\n",
    "    \n",
    "    def get_dist(self, list1, list2):\n",
    "        return np.sqrt(sum((i-j)**2 for i,j in zip(list1,list2)))\n",
    "    \n",
    "    def get_region(self, data):\n",
    "        return [list(q) for q in self.dataset if \\\n",
    "               self.get_dist(data,q) < self.eps]\n",
    "    \n",
    "    def expand_cluster(self, data):\n",
    "        if self.n_clusters not in self.clusters:\n",
    "            self.clusters[self.n_clusters] = []\n",
    "        self.clustered.add(tuple(data))\n",
    "        self.clusters[self.n_clusters].append(data)\n",
    "        neighbours = self.get_region(data)\n",
    "        while neighbours:\n",
    "            q = neighbours.pop()\n",
    "            if tuple(q) not in self.visited:\n",
    "                self.visited.add(tuple(q))\n",
    "                q_neighbours = self.get_region(q)\n",
    "                if len(q_neighbours) > self.min_samples:\n",
    "                    neighbours.extend(q_neighbours)\n",
    "            if tuple(q) not in self.clustered:\n",
    "                self.clustered.add(tuple(q))\n",
    "                self.clusters[self.n_clusters].append(q)\n",
    "                if q in self.clusters[0]:\n",
    "                    self.clusters[0].remove(q)\n",
    "    \n",
    "    def fit(self):\n",
    "        for data in self.dataset:\n",
    "            data = list(data)\n",
    "            if tuple(data) in self.visited:\n",
    "                continue\n",
    "            self.visited.add(tuple(data))\n",
    "            neighbours = self.get_region(data)\n",
    "            if len(neighbours) < self.min_samples:\n",
    "                self.clusters[0].append(data)\n",
    "            else:\n",
    "                self.n_clusters += 1\n",
    "                self.expand_cluster(data)\n",
    "        self.fitted = True\n",
    "            \n",
    "    def get_labels(self):\n",
    "        self.labels = np.array([])\n",
    "        if not self.fitted:\n",
    "            self.fit()\n",
    "        for data in self.dataset:\n",
    "            for i in range(self.n_clusters+1):\n",
    "                if list(data) in self.clusters[i]:\n",
    "                    self.labels = np.append(self.labels, i).astype(int)        "
   ]
  },
  {
   "cell_type": "code",
   "execution_count": 7,
   "metadata": {},
   "outputs": [],
   "source": [
    "dbscan = DB_SCAN(data, 30, 50)\n",
    "dbscan.fit()\n",
    "#print(dbscan.clusters)\n",
    "dbscan.get_labels()\n",
    "labels = dbscan.labels"
   ]
  },
  {
   "cell_type": "code",
   "execution_count": 9,
   "metadata": {},
   "outputs": [
    {
     "data": {
      "image/png": "[encoded data removed]",
      "text/plain": [
       "<Figure size 432x288 with 1 Axes>"
      ]
     },
     "metadata": {
      "needs_background": "light"
     },
     "output_type": "display_data"
    }
   ],
   "source": [
    "NUM_COLORS = 10\n",
    "cm = plt.get_cmap('gist_rainbow')\n",
    "cNorm  = colors.Normalize(vmin=0, vmax=NUM_COLORS-1)\n",
    "scalarMap = mplcm.ScalarMappable(norm=cNorm, cmap=cm)\n",
    "plt.figure()\n",
    "plt.scatter(data[:,0], data[:,1], c=scalarMap.to_rgba(labels))\n",
    "plt.show()"
   ]
  },
  {
   "cell_type": "code",
   "execution_count": null,
   "metadata": {},
   "outputs": [],
   "source": []
  }
 ],
 "metadata": {
  "kernelspec": {
   "display_name": "Python 3",
   "language": "python",
   "name": "python3"
  },
  "language_info": {
   "codemirror_mode": {
    "name": "ipython",
    "version": 3
   },
   "file_extension": ".py",
   "mimetype": "text/x-python",
   "name": "python",
   "nbconvert_exporter": "python",
   "pygments_lexer": "ipython3",
   "version": "3.7.3"
  }
 },
 "nbformat": 4,
 "nbformat_minor": 2
}
