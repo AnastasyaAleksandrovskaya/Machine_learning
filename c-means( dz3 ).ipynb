{
 "cells": [
  {
   "cell_type": "code",
   "execution_count": 27,
   "metadata": {},
   "outputs": [],
   "source": [
    "import numpy as np\n",
    "import matplotlib.cm as cm\n",
    "import random\n",
    "from matplotlib import pyplot as plt"
   ]
  },
  {
   "cell_type": "code",
   "execution_count": 28,
   "metadata": {},
   "outputs": [],
   "source": [
    "class C_Means():\n",
    "    def __init__(self, dataset, n_clusters=3, fuzzy=2, cut_param=.9):\n",
    "        self.dataset = dataset\n",
    "        self.n_clusters = n_clusters\n",
    "        self.fuzzy = fuzzy\n",
    "        self.cut_param = cut_param\n",
    "        self.max_n_iter = 100\n",
    "        self.tolerance = .01\n",
    "        self.fitted = False\n",
    "        self.labels = np.array([])\n",
    "        self.centroids = self.dataset[np.random.choice(self.dataset.shape[0], size=self.n_clusters, replace=False)]+1\n",
    "        self.U = np.array([])\n",
    "        \n",
    "    def get_dist(self, list1, list2):\n",
    "        return np.sqrt(sum((i-j)**2 for i,j in zip(list1,list2)))\n",
    "    \n",
    "    def distribute_data(self):\n",
    "        dist = np.array([[self.get_dist(i,j) for i in self.centroids] for j in self.dataset])\n",
    "        self.U = (1/dist)**self.fuzzy\n",
    "        self.U = self.U / self.U.sum(axis=1)[:,None]        \n",
    "        \n",
    "    def recalculate_centroids(self):\n",
    "        self.centroids = (self.U.T).dot(self.dataset) / self.U.sum(axis=0)[:,None]\n",
    "        \n",
    "    def normalize_arr(self):\n",
    "            arr_with_inf = np.where(np.isinf(self.U))\n",
    "            lines = arr_with_inf[0]\n",
    "            rows = arr_with_inf[1]\n",
    "            for i in range(0, len(lines)):\n",
    "                self.U[lines[i]] = 0\n",
    "                self.U[lines[i]][rows[i]] = 1\n",
    "            \n",
    "    def fit(self):\n",
    "        iter = 1\n",
    "        while iter<self.max_n_iter:\n",
    "            prev_centroids = np.copy(self.centroids)\n",
    "            self.distribute_data()\n",
    "            self.recalculate_centroids()\n",
    "            if max([self.get_dist(i,j) for i,j in zip(self.centroids,prev_centroids)]) < self.tolerance:\n",
    "                break\n",
    "            iter += 1\n",
    "        self.fitted = True\n",
    "        \n",
    "    def get_labels(self):\n",
    "        list_max = self.U.max(axis=1)\n",
    "        list_max_labels = np.argmax(self.U, axis=1)\n",
    "        self.labels = np.array([idx+1 if list_max[k]>self.cut_param \\\n",
    "                                else 0 for k,idx in \\\n",
    "                                enumerate(list_max_labels)])\n",
    "        \n",
    "    def cluster(self):\n",
    "            labels = np.array([])\n",
    "            for i in range(len(self.U)):\n",
    "                i_max = self.U[i][0]\n",
    "                i_max_indx = 0\n",
    "                for j in range(len(self.U[i])):\n",
    "                    if (self.U[i][j] > i_max):\n",
    "                        i_max = self.U[i][j]\n",
    "                        i_max_indx = j\n",
    "                if (i_max > self.cut_param):\n",
    "                    labels = np.append(list(labels), i_max_indx + 1).astype(int)\n",
    "                else:\n",
    "                        labels = np.append(list(labels), 0).astype(int)\n",
    "            return labels\n"
   ]
  },
  {
   "cell_type": "code",
   "execution_count": 29,
   "metadata": {},
   "outputs": [
    {
     "data": {
      "text/plain": [
       "array([[143.31992869,  70.62046971],\n",
       "       [118.90567518,  45.35171007],\n",
       "       [124.38699853,  43.24822663],\n",
       "       [122.32123419,  33.03596338],\n",
       "       [ 61.93294073, 137.51971247],\n",
       "       [ 50.39197582,   2.45061467],\n",
       "       [ 94.73968455, 101.98354204],\n",
       "       [ 88.12602945,  56.4780644 ],\n",
       "       [ 95.76363048,  46.56567704],\n",
       "       [100.07068575, 120.00499208],\n",
       "       [  4.17661359,  60.73011116],\n",
       "       [ 35.64709423, 141.87561496],\n",
       "       [ 64.86329893,  34.48904325],\n",
       "       [ 66.56969386,  43.35884898],\n",
       "       [101.04424235,  36.13777457],\n",
       "       [ 66.82174098,  19.51427142],\n",
       "       [ 81.39375226, 118.0895159 ],\n",
       "       [ 67.40235302,  64.73759232],\n",
       "       [ 60.18238038,   1.58321026],\n",
       "       [ 80.99752869, 146.92919837],\n",
       "       [143.62045574,  50.06007717],\n",
       "       [ 48.51974222,  54.89565452],\n",
       "       [130.8700421 , 123.46054134],\n",
       "       [ 98.47475019,   7.02949884],\n",
       "       [131.31796076, 138.60960654],\n",
       "       [ 68.51447253, 102.23241907],\n",
       "       [134.27683583, 141.23075791],\n",
       "       [147.33425055,  12.86900684],\n",
       "       [ 42.86345842,  60.82481763],\n",
       "       [119.77448709, 130.74397207],\n",
       "       [123.22855208,  85.02085016],\n",
       "       [ 37.88282036,  80.37166475],\n",
       "       [104.89050906,  44.69692572],\n",
       "       [ 48.83613155, 135.01327866],\n",
       "       [  5.91353385,  72.19152877],\n",
       "       [130.95662702, 143.12275919],\n",
       "       [ 57.54687847,  57.9815778 ],\n",
       "       [101.01338359,  44.87351779],\n",
       "       [ 33.53098654,  38.60554687],\n",
       "       [ 67.86984554, 118.49319298],\n",
       "       [100.52535556, 115.82935935],\n",
       "       [110.92402433, 106.04471358],\n",
       "       [121.40958118, 131.06855209],\n",
       "       [139.60375275, 129.67647494],\n",
       "       [ 22.52597139, 121.29996773],\n",
       "       [ 49.07248386,  30.8319901 ],\n",
       "       [ 68.62747468, 136.98682451],\n",
       "       [  0.19158688,  28.26775391],\n",
       "       [ 37.42035932,  51.96722986],\n",
       "       [121.34461451, 141.82363061],\n",
       "       [ 15.01445602,  87.96792735],\n",
       "       [124.68575608, 147.49798441],\n",
       "       [107.71722097,  35.95473918],\n",
       "       [123.38303176,  92.39487142],\n",
       "       [104.39291204,  41.14586906],\n",
       "       [ 60.52810916,  18.67280892],\n",
       "       [141.61545451,  71.77706478],\n",
       "       [ 30.34257818,  47.11865278],\n",
       "       [ 28.9466676 , 119.20434062],\n",
       "       [ 90.34341974,  45.51593773],\n",
       "       [142.98644856, 136.86198408],\n",
       "       [116.1893278 , 112.73554072],\n",
       "       [ 66.36365896,  36.01676718],\n",
       "       [ 30.11138567,  43.69884246],\n",
       "       [ 15.87003048,  49.94269498],\n",
       "       [ 56.18518234, 105.13658227],\n",
       "       [ 29.61016535, 118.39356386],\n",
       "       [116.22428104,   2.28776055],\n",
       "       [ 10.40839754,  44.78223805],\n",
       "       [ 74.53999831, 128.5640977 ],\n",
       "       [101.17228142,  23.70332632],\n",
       "       [147.45540055,  15.8604147 ],\n",
       "       [ 89.52522288,  34.40680672],\n",
       "       [118.35883477,  43.97065594],\n",
       "       [ 34.62889422,  82.54344286]])"
      ]
     },
     "execution_count": 29,
     "metadata": {},
     "output_type": "execute_result"
    }
   ],
   "source": [
    "n = 150\n",
    "dataset = np.array([[np.random.uniform(0, n), np.random.uniform(0, n)] for k in range(n // 2)])\n",
    "dataset"
   ]
  },
  {
   "cell_type": "code",
   "execution_count": 30,
   "metadata": {},
   "outputs": [],
   "source": [
    "test = C_Means(dataset, 3, 2, .5)\n",
    "test.fit()\n",
    "pred = test.cluster()"
   ]
  },
  {
   "cell_type": "code",
   "execution_count": 38,
   "metadata": {},
   "outputs": [],
   "source": [
    "x = np.arange(n)\n",
    "ys = [i+x+(i*x)**2 for i in range(10)]\n",
    "colors = cm.rainbow(np.linspace(0, 1, len(ys)))"
   ]
  },
  {
   "cell_type": "code",
   "execution_count": 32,
   "metadata": {},
   "outputs": [
    {
     "data": {
      "image/png": "[encoded data removed]",
      "text/plain": [
       "<Figure size 288x288 with 1 Axes>"
      ]
     },
     "metadata": {
      "needs_background": "light"
     },
     "output_type": "display_data"
    }
   ],
   "source": [
    "plt.figure(figsize=(4, 4))\n",
    "plt.scatter(dataset[:, 0], dataset[:, 1], color=colors[pred])\n",
    "plt.show()"
   ]
  },
  {
   "cell_type": "markdown",
   "metadata": {},
   "source": [
    "PyGame"
   ]
  },
  {
   "cell_type": "code",
   "execution_count": 33,
   "metadata": {},
   "outputs": [
    {
     "name": "stdout",
     "output_type": "stream",
     "text": [
      "[[13.63557025  1.46756577]\n",
      " [ 6.42438164  9.18840629]\n",
      " [18.65968933  7.11186988]\n",
      " [ 1.98722833  2.10074368]\n",
      " [ 9.9122923   8.93679561]\n",
      " [ 1.98831492 16.18092209]\n",
      " [14.01092488 19.18563446]]\n",
      "[[10.9122923   9.93679561]\n",
      " [15.01092488 20.18563446]\n",
      " [ 2.98831492 17.18092209]]\n",
      "[[ 8.89629681 18.7685294  18.98087493]\n",
      " [ 4.54988226 13.95233859  8.69981973]\n",
      " [ 8.24635473 13.57338581 18.62733981]\n",
      " [11.87688834 22.28631747 15.11337009]\n",
      " [ 1.41421356 12.35040201 10.76601524]\n",
      " [10.89157875 13.62446664  1.41421356]\n",
      " [ 9.75410395  1.41421356 11.20342814]]\n",
      "[[128.63345062 675.84170665 692.95132197]\n",
      " [ 28.98828851 349.67132221 122.40539609]\n",
      " [108.67704114 328.91590505 664.59553058]\n",
      " [244.47145847 990.01253901 417.64080809]\n",
      " [  2.16011948 266.66006887 196.54207368]\n",
      " [201.67232363 331.67292599   2.16011948]\n",
      " [157.83167928   2.16011948 214.72912859]]\n",
      "[[1497.42647924]\n",
      " [ 501.06500681]\n",
      " [1102.18847676]\n",
      " [1652.12480557]\n",
      " [ 465.36226203]\n",
      " [ 535.5053691 ]\n",
      " [ 374.72092735]]\n",
      "[[0.08590302 0.45133549 0.4627615 ]\n",
      " [0.05785335 0.6978562  0.24429045]\n",
      " [0.09860114 0.29842074 0.60297812]\n",
      " [0.14797397 0.59923593 0.25279011]\n",
      " [0.0046418  0.5730161  0.4223421 ]\n",
      " [0.37660187 0.61936433 0.0040338 ]\n",
      " [0.42119793 0.00576461 0.57303746]]\n"
     ]
    }
   ],
   "source": [
    "A1 = np.array([[np.random.uniform(0,20),np.random.uniform(0,20)] for k in range(1,8)])\n",
    "print(A1)\n",
    "num = 3\n",
    "A2 = A1[np.random.choice(A1.shape[0], size=num, replace=False)]+1\n",
    "print(A2)\n",
    "A3 = np.zeros((A1.shape[0], num))\n",
    "\n",
    "def dist(list1,list2):\n",
    "    return np.sqrt(sum((i-j)**2 for i,j in zip(list1,list2)))\n",
    "\n",
    "A4 = np.array([[dist(i,j) for i in A2] for j in A1])\n",
    "print(A4)\n",
    "\n",
    "np.seterr(divide='ignore')\n",
    "m = .1\n",
    "u = (1/A4)**(2/(m-1))\n",
    "#um = (u / u.sum(axis=1)[:,None])\n",
    "\n",
    "print(u)\n",
    "print(u.sum(axis=1)[:,None])\n",
    "print(u / u.sum(axis=1)[:,None])"
   ]
  },
  {
   "cell_type": "code",
   "execution_count": 34,
   "metadata": {},
   "outputs": [
    {
     "data": {
      "image/png": "[encoded data removed]",
      "text/plain": [
       "<Figure size 432x288 with 1 Axes>"
      ]
     },
     "metadata": {
      "needs_background": "light"
     },
     "output_type": "display_data"
    }
   ],
   "source": [
    "import pygame\n",
    "\n",
    "data = np.empty((0,2), dtype='f')\n",
    "\n",
    "def createData(position):\n",
    "    (x,y) = position\n",
    "    r = np.random.uniform(0,30)\n",
    "    phi = np.random.uniform(0,2*np.pi)\n",
    "    coord = [x + r*np.cos(phi), y + r*np.sin(phi)]\n",
    "    global data\n",
    "    data = np.append(data,[coord],axis=0)\n",
    "    \n",
    "radius = 2\n",
    "color = (0,0,255)\n",
    "thickness = 0\n",
    "\n",
    "bg_color = (255,255,255)\n",
    "(width,height) = (640,480)\n",
    "screen = pygame.display.set_mode((width,height))\n",
    "pygame.display.set_caption('data generator')\n",
    "\n",
    "running = True\n",
    "pushing = False\n",
    "while running:\n",
    "    for event in pygame.event.get():\n",
    "        if event.type == pygame.QUIT:\n",
    "            running = False\n",
    "        elif event.type == pygame.MOUSEBUTTONDOWN:\n",
    "            pushing = True\n",
    "        elif event.type == pygame.MOUSEBUTTONUP:\n",
    "            pushing = False\n",
    "            \n",
    "    if pushing:\n",
    "        createData(pygame.mouse.get_pos())\n",
    "            \n",
    "            \n",
    "    screen.fill(bg_color)\n",
    "    for point in data:\n",
    "        pygame.draw.circle(screen,color,(int(point[0]),int(point[1])),radius,thickness)\n",
    "    pygame.display.flip()\n",
    "    \n",
    "pygame.quit()\n",
    "\n",
    "\n",
    "cmeans = C_Means(data, 4, 3, .99)\n",
    "cmeans.fit()\n",
    "cmeans.get_labels()\n",
    "\n",
    "\n",
    "import matplotlib.pyplot as plt\n",
    "color_list = np.array(['black','red','green','blue','#ff7f00','#377eb8','yellow'])\n",
    "plt.figure()\n",
    "plt.scatter(data[:,0], data[:,1], c=color_list[cmeans.labels])\n",
    "plt.scatter(cmeans.centroids[:,0], cmeans.centroids[:,1], c='black', marker='x')\n",
    "plt.show()"
   ]
  },
  {
   "cell_type": "code",
   "execution_count": null,
   "metadata": {},
   "outputs": [],
   "source": []
  }
 ],
 "metadata": {
  "kernelspec": {
   "display_name": "Python 3",
   "language": "python",
   "name": "python3"
  },
  "language_info": {
   "codemirror_mode": {
    "name": "ipython",
    "version": 3
   },
   "file_extension": ".py",
   "mimetype": "text/x-python",
   "name": "python",
   "nbconvert_exporter": "python",
   "pygments_lexer": "ipython3",
   "version": "3.7.3"
  }
 },
 "nbformat": 4,
 "nbformat_minor": 2
}
